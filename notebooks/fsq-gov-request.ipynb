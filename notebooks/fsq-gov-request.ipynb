{
 "cells": [
  {
   "cell_type": "code",
   "execution_count": 20,
   "id": "463a741f",
   "metadata": {},
   "outputs": [],
   "source": [
    "# Import libraries\n",
    "import pandas as pd \n",
    "import requests\n",
    "import os \n",
    "import json\n",
    "import pprint\n",
    "import numpy as np"
   ]
  },
  {
   "cell_type": "code",
   "execution_count": 21,
   "id": "f72733d1",
   "metadata": {},
   "outputs": [],
   "source": [
    "# Read original df with neighborhood and coordinates\n",
    "%store -r nyc_df"
   ]
  },
  {
   "cell_type": "code",
   "execution_count": 22,
   "id": "faa41c75",
   "metadata": {},
   "outputs": [
    {
     "data": {
      "text/html": [
       "<div>\n",
       "<style scoped>\n",
       "    .dataframe tbody tr th:only-of-type {\n",
       "        vertical-align: middle;\n",
       "    }\n",
       "\n",
       "    .dataframe tbody tr th {\n",
       "        vertical-align: top;\n",
       "    }\n",
       "\n",
       "    .dataframe thead th {\n",
       "        text-align: right;\n",
       "    }\n",
       "</style>\n",
       "<table border=\"1\" class=\"dataframe\">\n",
       "  <thead>\n",
       "    <tr style=\"text-align: right;\">\n",
       "      <th></th>\n",
       "      <th>Neighborhood</th>\n",
       "      <th>Borough</th>\n",
       "      <th>Longitude</th>\n",
       "      <th>Latitude</th>\n",
       "    </tr>\n",
       "  </thead>\n",
       "  <tbody>\n",
       "    <tr>\n",
       "      <th>0</th>\n",
       "      <td>Wakefield</td>\n",
       "      <td>Bronx</td>\n",
       "      <td>-73.847201</td>\n",
       "      <td>40.894705</td>\n",
       "    </tr>\n",
       "    <tr>\n",
       "      <th>1</th>\n",
       "      <td>Co-op City</td>\n",
       "      <td>Bronx</td>\n",
       "      <td>-73.829939</td>\n",
       "      <td>40.874294</td>\n",
       "    </tr>\n",
       "    <tr>\n",
       "      <th>2</th>\n",
       "      <td>Eastchester</td>\n",
       "      <td>Bronx</td>\n",
       "      <td>-73.827806</td>\n",
       "      <td>40.887556</td>\n",
       "    </tr>\n",
       "    <tr>\n",
       "      <th>3</th>\n",
       "      <td>Fieldston</td>\n",
       "      <td>Bronx</td>\n",
       "      <td>-73.905643</td>\n",
       "      <td>40.895437</td>\n",
       "    </tr>\n",
       "    <tr>\n",
       "      <th>4</th>\n",
       "      <td>Riverdale</td>\n",
       "      <td>Bronx</td>\n",
       "      <td>-73.912585</td>\n",
       "      <td>40.890834</td>\n",
       "    </tr>\n",
       "    <tr>\n",
       "      <th>...</th>\n",
       "      <td>...</td>\n",
       "      <td>...</td>\n",
       "      <td>...</td>\n",
       "      <td>...</td>\n",
       "    </tr>\n",
       "    <tr>\n",
       "      <th>301</th>\n",
       "      <td>Hudson Yards</td>\n",
       "      <td>Manhattan</td>\n",
       "      <td>-74.000111</td>\n",
       "      <td>40.756658</td>\n",
       "    </tr>\n",
       "    <tr>\n",
       "      <th>302</th>\n",
       "      <td>Hammels</td>\n",
       "      <td>Queens</td>\n",
       "      <td>-73.805530</td>\n",
       "      <td>40.587338</td>\n",
       "    </tr>\n",
       "    <tr>\n",
       "      <th>303</th>\n",
       "      <td>Bayswater</td>\n",
       "      <td>Queens</td>\n",
       "      <td>-73.765968</td>\n",
       "      <td>40.611322</td>\n",
       "    </tr>\n",
       "    <tr>\n",
       "      <th>304</th>\n",
       "      <td>Queensbridge</td>\n",
       "      <td>Queens</td>\n",
       "      <td>-73.945631</td>\n",
       "      <td>40.756091</td>\n",
       "    </tr>\n",
       "    <tr>\n",
       "      <th>305</th>\n",
       "      <td>Fox Hills</td>\n",
       "      <td>Staten Island</td>\n",
       "      <td>-74.081740</td>\n",
       "      <td>40.617311</td>\n",
       "    </tr>\n",
       "  </tbody>\n",
       "</table>\n",
       "<p>306 rows × 4 columns</p>\n",
       "</div>"
      ],
      "text/plain": [
       "     Neighborhood        Borough  Longitude   Latitude\n",
       "0       Wakefield          Bronx -73.847201  40.894705\n",
       "1      Co-op City          Bronx -73.829939  40.874294\n",
       "2     Eastchester          Bronx -73.827806  40.887556\n",
       "3       Fieldston          Bronx -73.905643  40.895437\n",
       "4       Riverdale          Bronx -73.912585  40.890834\n",
       "..            ...            ...        ...        ...\n",
       "301  Hudson Yards      Manhattan -74.000111  40.756658\n",
       "302       Hammels         Queens -73.805530  40.587338\n",
       "303     Bayswater         Queens -73.765968  40.611322\n",
       "304  Queensbridge         Queens -73.945631  40.756091\n",
       "305     Fox Hills  Staten Island -74.081740  40.617311\n",
       "\n",
       "[306 rows x 4 columns]"
      ]
     },
     "execution_count": 22,
     "metadata": {},
     "output_type": "execute_result"
    }
   ],
   "source": [
    "nyc_df.columns = ['Neighborhood', 'Borough', 'Longitude', 'Latitude']\n",
    "nyc_df"
   ]
  },
  {
   "cell_type": "code",
   "execution_count": 23,
   "id": "5cdcc9a9",
   "metadata": {},
   "outputs": [],
   "source": [
    "# Set the key\n",
    "fsq_api_key = os.environ['FOURSQUARE_API_KEY']"
   ]
  },
  {
   "cell_type": "code",
   "execution_count": 24,
   "id": "1093982d",
   "metadata": {},
   "outputs": [],
   "source": [
    "lat_list = nyc_df['Latitude'].tolist()\n",
    "lon_list = nyc_df['Longitude'].tolist()\n",
    "name_list = nyc_df['Neighborhood'].tolist"
   ]
  },
  {
   "cell_type": "code",
   "execution_count": 25,
   "id": "51f8eb80",
   "metadata": {},
   "outputs": [],
   "source": [
    "# venue info lists\n",
    "venues_name = []\n",
    "venues_cat = []\n",
    "venues_lat = []\n",
    "venues_lon = []\n",
    "venues_ngb = []\n",
    "venues_zip = []\n",
    "\n",
    "# Base url \n",
    "base_url = 'https://api.foursquare.com/v3/places/search'\n",
    "fields = 'name%2Cgeocodes%2Clocation%2Ccategories' # Replaced comma with '%2C'\n",
    "\n",
    "# Iterate through df\n",
    "for i in range(len(lat_list)):\n",
    "    # define URL parameters\n",
    "    ll = f'{lat_list[i]}%2C{lon_list[i]}' \n",
    "    params = f'?ll={ll}&radius=500&categories=12000&fields={fields}&limit=50'\n",
    "    url = base_url+params\n",
    "    #print(url)\n",
    "    \n",
    "    # set headers\n",
    "    headers = {\n",
    "        \"accept\": \"application/json\",\n",
    "        \"Authorization\": fsq_api_key}\n",
    "    \n",
    "    # Make the GET request\n",
    "    response = requests.get(url, headers=headers)\n",
    "       \n",
    "    for venue in response.json()['results']:\n",
    "        venues_name.append(venue['name'])\n",
    "        venues_cat.append(venue['categories'][0]['name'])\n",
    "        venues_lat.append(venue['geocodes']['main']['latitude'])\n",
    "        venues_lon.append(venue['geocodes']['main']['longitude'])\n",
    "        try:\n",
    "            venues_ngb.append(venue['location']['neighborhood'][0])\n",
    "        except: \n",
    "            venues_ngb.append(np.nan)\n",
    "        try:\n",
    "            venues_zip.append(venue['location']['postcode'])\n",
    "        except:\n",
    "            venues_zip.append(np.nan)"
   ]
  },
  {
   "cell_type": "code",
   "execution_count": 26,
   "id": "e6f5db20",
   "metadata": {},
   "outputs": [
    {
     "name": "stdout",
     "output_type": "stream",
     "text": [
      "9836\n",
      "9836\n",
      "9836\n",
      "9836\n",
      "9836\n",
      "9836\n"
     ]
    }
   ],
   "source": [
    "print(len(venues_name))\n",
    "print(len(venues_cat))\n",
    "print(len(venues_lat))\n",
    "print(len(venues_lon))\n",
    "print(len(venues_ngb))\n",
    "print(len(venues_zip))"
   ]
  },
  {
   "cell_type": "code",
   "execution_count": 27,
   "id": "6a7e8db7",
   "metadata": {},
   "outputs": [],
   "source": [
    "nyc_gov = pd.DataFrame(list(zip(\n",
    "    venues_name, venues_cat, venues_lat, venues_lon, venues_ngb, venues_zip)))"
   ]
  },
  {
   "cell_type": "code",
   "execution_count": 28,
   "id": "8f17888b",
   "metadata": {},
   "outputs": [],
   "source": [
    "nyc_gov.columns = [\n",
    "    'Venue', 'Category', 'Latitude', 'Longitude', 'Neighborhood', 'ZIP'\n",
    "]"
   ]
  },
  {
   "cell_type": "code",
   "execution_count": 29,
   "id": "153a1a37",
   "metadata": {},
   "outputs": [
    {
     "data": {
      "text/plain": [
       "(9836, 6)"
      ]
     },
     "execution_count": 29,
     "metadata": {},
     "output_type": "execute_result"
    }
   ],
   "source": [
    "nyc_gov.shape"
   ]
  },
  {
   "cell_type": "code",
   "execution_count": 30,
   "id": "c2a5447d",
   "metadata": {
    "scrolled": true
   },
   "outputs": [
    {
     "data": {
      "text/html": [
       "<div>\n",
       "<style scoped>\n",
       "    .dataframe tbody tr th:only-of-type {\n",
       "        vertical-align: middle;\n",
       "    }\n",
       "\n",
       "    .dataframe tbody tr th {\n",
       "        vertical-align: top;\n",
       "    }\n",
       "\n",
       "    .dataframe thead th {\n",
       "        text-align: right;\n",
       "    }\n",
       "</style>\n",
       "<table border=\"1\" class=\"dataframe\">\n",
       "  <thead>\n",
       "    <tr style=\"text-align: right;\">\n",
       "      <th></th>\n",
       "      <th>Venue</th>\n",
       "      <th>Category</th>\n",
       "      <th>Latitude</th>\n",
       "      <th>Longitude</th>\n",
       "      <th>Neighborhood</th>\n",
       "      <th>ZIP</th>\n",
       "    </tr>\n",
       "  </thead>\n",
       "  <tbody>\n",
       "    <tr>\n",
       "      <th>0</th>\n",
       "      <td>Public School 87</td>\n",
       "      <td>Elementary School</td>\n",
       "      <td>40.895310</td>\n",
       "      <td>-73.845988</td>\n",
       "      <td>Wakefield</td>\n",
       "      <td>10466</td>\n",
       "    </tr>\n",
       "    <tr>\n",
       "      <th>1</th>\n",
       "      <td>Little Stars Preschool</td>\n",
       "      <td>Preschool</td>\n",
       "      <td>40.891571</td>\n",
       "      <td>-73.844276</td>\n",
       "      <td>Edenwald</td>\n",
       "      <td>10466</td>\n",
       "    </tr>\n",
       "    <tr>\n",
       "      <th>2</th>\n",
       "      <td>Redeemer Lutheran Church</td>\n",
       "      <td>Church</td>\n",
       "      <td>40.897004</td>\n",
       "      <td>-73.851570</td>\n",
       "      <td>Wakefield</td>\n",
       "      <td>10466</td>\n",
       "    </tr>\n",
       "    <tr>\n",
       "      <th>3</th>\n",
       "      <td>Philadelphia Seventh Day Adventist Church</td>\n",
       "      <td>Church</td>\n",
       "      <td>40.891661</td>\n",
       "      <td>-73.851244</td>\n",
       "      <td>Williamsbridge</td>\n",
       "      <td>10466</td>\n",
       "    </tr>\n",
       "    <tr>\n",
       "      <th>4</th>\n",
       "      <td>Mount Saint Michael Academy</td>\n",
       "      <td>Private School</td>\n",
       "      <td>40.897394</td>\n",
       "      <td>-73.842691</td>\n",
       "      <td>Wakefield</td>\n",
       "      <td>10466</td>\n",
       "    </tr>\n",
       "  </tbody>\n",
       "</table>\n",
       "</div>"
      ],
      "text/plain": [
       "                                       Venue           Category   Latitude  \\\n",
       "0                           Public School 87  Elementary School  40.895310   \n",
       "1                     Little Stars Preschool          Preschool  40.891571   \n",
       "2                   Redeemer Lutheran Church             Church  40.897004   \n",
       "3  Philadelphia Seventh Day Adventist Church             Church  40.891661   \n",
       "4                Mount Saint Michael Academy     Private School  40.897394   \n",
       "\n",
       "   Longitude    Neighborhood    ZIP  \n",
       "0 -73.845988       Wakefield  10466  \n",
       "1 -73.844276        Edenwald  10466  \n",
       "2 -73.851570       Wakefield  10466  \n",
       "3 -73.851244  Williamsbridge  10466  \n",
       "4 -73.842691       Wakefield  10466  "
      ]
     },
     "execution_count": 30,
     "metadata": {},
     "output_type": "execute_result"
    }
   ],
   "source": [
    "nyc_gov.head(5)"
   ]
  },
  {
   "cell_type": "code",
   "execution_count": 31,
   "id": "f0b35504",
   "metadata": {},
   "outputs": [
    {
     "data": {
      "text/plain": [
       "Venue             0\n",
       "Category          0\n",
       "Latitude          0\n",
       "Longitude         0\n",
       "Neighborhood    643\n",
       "ZIP               1\n",
       "dtype: int64"
      ]
     },
     "execution_count": 31,
     "metadata": {},
     "output_type": "execute_result"
    }
   ],
   "source": [
    "nyc_gov.isnull().sum()"
   ]
  },
  {
   "cell_type": "code",
   "execution_count": 32,
   "id": "ab9c6fd8",
   "metadata": {},
   "outputs": [
    {
     "name": "stdout",
     "output_type": "stream",
     "text": [
      "Stored 'nyc_gov' (DataFrame)\n"
     ]
    }
   ],
   "source": [
    "%store nyc_gov"
   ]
  },
  {
   "cell_type": "code",
   "execution_count": 33,
   "id": "24a0468d",
   "metadata": {},
   "outputs": [],
   "source": [
    "# Export df to a csv file\n",
    "nyc_gov.to_csv('nyc_gov.csv', index=False)"
   ]
  },
  {
   "cell_type": "markdown",
   "id": "a0e36439",
   "metadata": {},
   "source": [
    "# Test Area"
   ]
  },
  {
   "cell_type": "code",
   "execution_count": 82,
   "id": "fa10423b",
   "metadata": {},
   "outputs": [
    {
     "name": "stdout",
     "output_type": "stream",
     "text": [
      "https://api.foursquare.com/v3/places/search?ll=40.87429419303012%2C-73.82993910812398&radius=500&categories=15000&fields=name%2Cgeocodes%2Clocation%2Ccategories&limit=50\n"
     ]
    }
   ],
   "source": [
    "base_url = 'https://api.foursquare.com/v3/places/search'\n",
    "fields = 'name%2Cgeocodes%2Clocation%2Ccategories' # Replaced comma with '%2C'\n",
    "ll = f'{lat_list[1]}%2C{lon_list[1]}' \n",
    "params = f'?ll={ll}&radius=500&categories=15000&fields={fields}&limit=50'\n",
    "url = base_url+params\n",
    "print(url)\n",
    "\n",
    "headers = {\n",
    "\"accept\": \"application/json\",\n",
    "\"Authorization\": fsq_api_key}\n",
    "        \n",
    "# Make the GET request\n",
    "response = requests.get(url, headers=headers)"
   ]
  },
  {
   "cell_type": "code",
   "execution_count": 83,
   "id": "9b1f8b6b",
   "metadata": {},
   "outputs": [
    {
     "data": {
      "text/plain": [
       "200"
      ]
     },
     "execution_count": 83,
     "metadata": {},
     "output_type": "execute_result"
    }
   ],
   "source": [
    "response.status_code"
   ]
  },
  {
   "cell_type": "code",
   "execution_count": 127,
   "id": "d845c433",
   "metadata": {},
   "outputs": [
    {
     "data": {
      "text/plain": [
       "[{'categories': [{'id': 15019,\n",
       "    'name': 'Mental Health Clinic',\n",
       "    'icon': {'prefix': 'https://ss3.4sqi.net/img/categories_v2/building/medical_doctorsoffice_',\n",
       "     'suffix': '.png'}}],\n",
       "  'geocodes': {'main': {'latitude': 40.620457, 'longitude': -74.080547},\n",
       "   'roof': {'latitude': 40.620457, 'longitude': -74.080547}},\n",
       "  'location': {'address': '101 Warren St',\n",
       "   'census_block': '360850029003000',\n",
       "   'country': 'US',\n",
       "   'dma': 'New York',\n",
       "   'formatted_address': '101 Warren St, New York, NY 10304',\n",
       "   'locality': 'New York',\n",
       "   'neighborhood': ['Stapleton'],\n",
       "   'postcode': '10304',\n",
       "   'region': 'NY'},\n",
       "  'name': 'Staten Island Mental Health'},\n",
       " {'categories': [{'id': 15016,\n",
       "    'name': 'Medical Center',\n",
       "    'icon': {'prefix': 'https://ss3.4sqi.net/img/categories_v2/building/medical_',\n",
       "     'suffix': '.png'}}],\n",
       "  'geocodes': {'main': {'latitude': 40.614241, 'longitude': -74.084439}},\n",
       "  'location': {'address': '531 Targee St',\n",
       "   'census_block': '360850040033000',\n",
       "   'country': 'US',\n",
       "   'dma': 'New York',\n",
       "   'formatted_address': '531 Targee St, Staten Island, NY 10304',\n",
       "   'locality': 'Staten Island',\n",
       "   'neighborhood': ['Stapleton'],\n",
       "   'postcode': '10304',\n",
       "   'region': 'NY'},\n",
       "  'name': 'Clifton Medical Plaza'}]"
      ]
     },
     "execution_count": 127,
     "metadata": {},
     "output_type": "execute_result"
    }
   ],
   "source": [
    "response.json()['results']"
   ]
  },
  {
   "cell_type": "code",
   "execution_count": 55,
   "id": "17a474e3",
   "metadata": {},
   "outputs": [],
   "source": [
    "venues_name = []\n",
    "venues_cat = []\n",
    "venues_lat = []\n",
    "venues_lon = []"
   ]
  },
  {
   "cell_type": "code",
   "execution_count": 56,
   "id": "f6e81ed8",
   "metadata": {},
   "outputs": [],
   "source": [
    "for venue in response.json()['results']:\n",
    "    venues_name.append(venue['name'])\n",
    "    venues_cat.append(venue['categories'][0]['name'])\n",
    "    venues_lat.append(venue['geocodes']['main']['latitude'])\n",
    "    venues_lon.append(venue['geocodes']['main']['longitude'])"
   ]
  },
  {
   "cell_type": "code",
   "execution_count": 57,
   "id": "523e96ec",
   "metadata": {},
   "outputs": [
    {
     "name": "stdout",
     "output_type": "stream",
     "text": [
      "['Riverdale Lactation Center', 'Coagulation Sciences']\n",
      "['Hospital', 'Health and Medicine']\n",
      "[40.892949, 40.895337]\n",
      "[-73.903551, -73.911439]\n"
     ]
    }
   ],
   "source": [
    "print(venues_name)\n",
    "print(venues_cat)\n",
    "print(venues_lat)\n",
    "print(venues_lon)"
   ]
  },
  {
   "cell_type": "code",
   "execution_count": 75,
   "id": "aaba1363",
   "metadata": {},
   "outputs": [
    {
     "data": {
      "text/plain": [
       "['Stapleton']"
      ]
     },
     "execution_count": 75,
     "metadata": {},
     "output_type": "execute_result"
    }
   ],
   "source": [
    "response.json()['results'][0]['name']['neighborhood']"
   ]
  }
 ],
 "metadata": {
  "kernelspec": {
   "display_name": "Python 3 (ipykernel)",
   "language": "python",
   "name": "python3"
  },
  "language_info": {
   "codemirror_mode": {
    "name": "ipython",
    "version": 3
   },
   "file_extension": ".py",
   "mimetype": "text/x-python",
   "name": "python",
   "nbconvert_exporter": "python",
   "pygments_lexer": "ipython3",
   "version": "3.9.12"
  }
 },
 "nbformat": 4,
 "nbformat_minor": 5
}
